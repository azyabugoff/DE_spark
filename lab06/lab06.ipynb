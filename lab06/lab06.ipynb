{
 "cells": [
  {
   "cell_type": "code",
   "execution_count": null,
   "metadata": {},
   "outputs": [],
   "source": []
  },
  {
   "cell_type": "code",
   "execution_count": null,
   "metadata": {},
   "outputs": [],
   "source": [
    "val USER = \"***\"\n",
    "val HDFS_DIR = s\"/user/$USER/users-items/20200429\"\n",
    "val OUT_DIR = s\"/user/$USER/features\""
   ]
  },
  {
   "cell_type": "code",
   "execution_count": 184,
   "metadata": {},
   "outputs": [],
   "source": [
    "import org.apache.spark.sql.types._\n",
    "import org.apache.spark.sql.functions._\n",
    "import org.apache.spark.sql.functions.udf\n",
    "import org.apache.spark.sql.DataFrame"
   ]
  },
  {
   "cell_type": "code",
   "execution_count": 1,
   "metadata": {},
   "outputs": [],
   "source": [
    "spark.conf.set(\"spark.sql.session.timeZone\", \"UTC\")"
   ]
  },
  {
   "cell_type": "markdown",
   "metadata": {},
   "source": [
    "# get weblogs.json data"
   ]
  },
  {
   "cell_type": "code",
   "execution_count": 186,
   "metadata": {},
   "outputs": [
    {
     "data": {
      "text/plain": [
       "input = [uid: string, timestamp: bigint ... 1 more field]\n"
      ]
     },
     "metadata": {},
     "output_type": "display_data"
    },
    {
     "data": {
      "text/plain": [
       "[uid: string, timestamp: bigint ... 1 more field]"
      ]
     },
     "execution_count": 186,
     "metadata": {},
     "output_type": "execute_result"
    }
   ],
   "source": [
    "val input = spark.read\n",
    "                .option(\"header\",true)\n",
    "                .json(\"/labs/laba03/weblogs.json\").toDF\n",
    "                .select('uid, explode(col(\"visits\")))\n",
    "                .select('uid, col(\"col.*\"))\n",
    "                .toDF"
   ]
  },
  {
   "cell_type": "code",
   "execution_count": 3,
   "metadata": {},
   "outputs": [
    {
     "data": {
      "text/plain": [
       "webLogs = [uid: string, timestamp: timestamp ... 1 more field]\n"
      ]
     },
     "metadata": {},
     "output_type": "display_data"
    },
    {
     "data": {
      "text/plain": [
       "[uid: string, timestamp: timestamp ... 1 more field]"
      ]
     },
     "execution_count": 3,
     "metadata": {},
     "output_type": "execute_result"
    }
   ],
   "source": [
    "val webLogs = input\n",
    "    .withColumn(\"timestamp\", to_utc_timestamp(from_unixtime('timestamp / 1000), \"UTC\"))\n",
    "    .na.drop(List(\"uid\"))\n",
    "    .withColumn(\"url\", lower(callUDF(\"parse_url\", col(\"url\"), lit(\"HOST\"))))\n",
    "    .withColumn(\"url\", regexp_replace(col(\"url\"), \"www.\", \"\"))\n",
    "    .withColumn(\"url\", regexp_replace(col(\"url\"), \"[.]\", \"-\"))\n",
    "    .na.drop(List(\"url\"))"
   ]
  },
  {
   "cell_type": "code",
   "execution_count": 4,
   "metadata": {},
   "outputs": [
    {
     "name": "stdout",
     "output_type": "stream",
     "text": [
      "root\n",
      " |-- uid: string (nullable = true)\n",
      " |-- timestamp: timestamp (nullable = true)\n",
      " |-- url: string (nullable = true)\n",
      "\n"
     ]
    }
   ],
   "source": [
    "webLogs.printSchema"
   ]
  },
  {
   "cell_type": "markdown",
   "metadata": {},
   "source": [
    "# domain_features"
   ]
  },
  {
   "cell_type": "code",
   "execution_count": 189,
   "metadata": {},
   "outputs": [
    {
     "data": {
      "text/plain": [
       "top_domains = Array(-kasparov-ru, 0629-com-ua, 1001eda-com, 1001golos-ru, 1001goroskop-ru, 1001tur-ru, 101-ru, 11x11-ru, 123greetings-com, 123magazin-ru, 1prime-ru, 2012god-ru, 2015godkozy-com, 24au-ru, 24open-ru, 2ip-ru, 360-ru, 3d-galleru-ru, 3dnews-ru, 4tololo-ru, 5lb-ru, 62-ua, 7ba-ru, 7d-ru, 7days-ru, 9111-ru, 999-md, a-napishem-com, a-piter-ru, abc-people-com, account-forex4you-org, accuweather-com, actuallno-com, ad-adriver-ru, adidas-ru, adme-ru, adultmanga-ru, adultmult-tv, afisha-1ru-tv, aftershock-su, aif-ru, aif-ua, akusherstvo-ru, alfabank-ru, allday2-com, alleng-ru, allrecipes-ru, alpindustria-ru, amalgama-lab-com, amdm-ru, amic-ru, amoory-com, amway-ru, anekdot-ru, anekdotov-net, anistar-ru, anna-news-info, anysex-com, api-oktools-ru, app-facebook-com, apps-fa...\n"
      ]
     },
     "metadata": {},
     "output_type": "display_data"
    },
    {
     "data": {
      "text/plain": [
       "Array(-kasparov-ru, 0629-com-ua, 1001eda-com, 1001golos-ru, 1001goroskop-ru, 1001tur-ru, 101-ru, 11x11-ru, 123greetings-com, 123magazin-ru, 1prime-ru, 2012god-ru, 2015godkozy-com, 24au-ru, 24open-ru, 2ip-ru, 360-ru, 3d-galleru-ru, 3dnews-ru, 4tololo-ru, 5lb-ru, 62-ua, 7ba-ru, 7d-ru, 7days-ru, 9111-ru, 999-md, a-napishem-com, a-piter-ru, abc-people-com, account-forex4you-org, accuweather-com, actuallno-com, ad-adriver-ru, adidas-ru, adme-ru, adultmanga-ru, adultmult-tv, afisha-1ru-tv, aftershock-su, aif-ru, aif-ua, akusherstvo-ru, alfabank-ru, allday2-com, alleng-ru, allrecipes-ru, alpindustria-ru, amalgama-lab-com, amdm-ru, amic-ru, amoory-com, amway-ru, anekdot-ru, anekdotov-net, anistar-ru, anna-news-info, anysex-com, api-oktools-ru, app-facebook-com, apps-fa..."
      ]
     },
     "execution_count": 189,
     "metadata": {},
     "output_type": "execute_result"
    }
   ],
   "source": [
    "val top_domains = webLogs\n",
    "    .groupBy('url)\n",
    "    .count\n",
    "    .na.drop(List(\"url\"))\n",
    "    .orderBy('count.desc)\n",
    "    .limit(1000)\n",
    "    .orderBy('url.asc)\n",
    "    .select('url)\n",
    "    .rdd.map(r => r(0)).collect"
   ]
  },
  {
   "cell_type": "code",
   "execution_count": 190,
   "metadata": {},
   "outputs": [
    {
     "data": {
      "text/plain": [
       "topWebLogs = [uid: string, timestamp: bigint ... 1 more field]\n"
      ]
     },
     "metadata": {},
     "output_type": "display_data"
    },
    {
     "data": {
      "text/plain": [
       "[uid: string, timestamp: bigint ... 1 more field]"
      ]
     },
     "execution_count": 190,
     "metadata": {},
     "output_type": "execute_result"
    }
   ],
   "source": [
    "val topWebLogs = webLogs.filter('url.isInCollection(top_domains))"
   ]
  },
  {
   "cell_type": "code",
   "execution_count": 191,
   "metadata": {},
   "outputs": [
    {
     "data": {
      "text/plain": [
       "topWebMatrix = [uid: string, -kasparov-ru: bigint ... 999 more fields]\n"
      ]
     },
     "metadata": {},
     "output_type": "display_data"
    },
    {
     "data": {
      "text/plain": [
       "[uid: string, -kasparov-ru: bigint ... 999 more fields]"
      ]
     },
     "execution_count": 191,
     "metadata": {},
     "output_type": "execute_result"
    }
   ],
   "source": [
    "val topWebMatrix = topWebLogs\n",
    "    .groupBy(\"uid\", \"url\")\n",
    "    .count\n",
    "    .groupBy(\"uid\")\n",
    "    .pivot(\"url\")\n",
    "    .sum(\"count\")\n",
    "    .na.fill(0)"
   ]
  },
  {
   "cell_type": "code",
   "execution_count": 192,
   "metadata": {},
   "outputs": [
    {
     "data": {
      "text/plain": [
       "col_arr = Array(-kasparov-ru, 0629-com-ua, 1001eda-com, 1001golos-ru, 1001goroskop-ru, 1001tur-ru, 101-ru, 11x11-ru, 123greetings-com, 123magazin-ru, 1prime-ru, 2012god-ru, 2015godkozy-com, 24au-ru, 24open-ru, 2ip-ru, 360-ru, 3d-galleru-ru, 3dnews-ru, 4tololo-ru, 5lb-ru, 62-ua, 7ba-ru, 7d-ru, 7days-ru, 9111-ru, 999-md, a-napishem-com, a-piter-ru, abc-people-com, account-forex4you-org, accuweather-com, actuallno-com, ad-adriver-ru, adidas-ru, adme-ru, adultmanga-ru, adultmult-tv, afisha-1ru-tv, aftershock-su, aif-ru, aif-ua, akusherstvo-ru, alfabank-ru, allday2-com, alleng-ru, allrecipes-ru, alpindustria-ru, amalgama-lab-com, amdm-ru, amic-ru, amoory-com, amway-ru, anekdot-ru, anekdotov-net, anistar-ru, anna-news-info, anysex-com, api-oktools-ru, app-facebook-com, apps-fac...\n"
      ]
     },
     "metadata": {},
     "output_type": "display_data"
    },
    {
     "data": {
      "text/plain": [
       "Array(-kasparov-ru, 0629-com-ua, 1001eda-com, 1001golos-ru, 1001goroskop-ru, 1001tur-ru, 101-ru, 11x11-ru, 123greetings-com, 123magazin-ru, 1prime-ru, 2012god-ru, 2015godkozy-com, 24au-ru, 24open-ru, 2ip-ru, 360-ru, 3d-galleru-ru, 3dnews-ru, 4tololo-ru, 5lb-ru, 62-ua, 7ba-ru, 7d-ru, 7days-ru, 9111-ru, 999-md, a-napishem-com, a-piter-ru, abc-people-com, account-forex4you-org, accuweather-com, actuallno-com, ad-adriver-ru, adidas-ru, adme-ru, adultmanga-ru, adultmult-tv, afisha-1ru-tv, aftershock-su, aif-ru, aif-ua, akusherstvo-ru, alfabank-ru, allday2-com, alleng-ru, allrecipes-ru, alpindustria-ru, amalgama-lab-com, amdm-ru, amic-ru, amoory-com, amway-ru, anekdot-ru, anekdotov-net, anistar-ru, anna-news-info, anysex-com, api-oktools-ru, app-facebook-com, apps-fac..."
      ]
     },
     "execution_count": 192,
     "metadata": {},
     "output_type": "execute_result"
    }
   ],
   "source": [
    "val col_arr = topWebMatrix.columns.filter(_ != \"uid\")\n",
    "val topDomainFeatures = topWebMatrix.select('uid, array(col_arr.map(col):_*).as(\"domain_features\"))"
   ]
  },
  {
   "cell_type": "code",
   "execution_count": 193,
   "metadata": {},
   "outputs": [
    {
     "name": "stdout",
     "output_type": "stream",
     "text": [
      "root\n",
      " |-- uid: string (nullable = true)\n",
      " |-- domain_features: array (nullable = false)\n",
      " |    |-- element: long (containsNull = false)\n",
      "\n"
     ]
    }
   ],
   "source": [
    "topDomainFeatures.printSchema"
   ]
  },
  {
   "cell_type": "code",
   "execution_count": 194,
   "metadata": {},
   "outputs": [
    {
     "data": {
      "text/plain": [
       "uid_top_visitors = Array(e7267fb3-c6e7-4a7b-8810-536b07f7d092, 1ba0d2cb-e4b8-4a1b-b4b3-41607fbf70ca, 29b41418-ceff-44ab-be66-150acb8cf571, b966b7ec-c6a2-4f87-8762-9a3a526bed00, 77108b3a-10fd-48f5-a392-0f50fcd5f290, bbcea5e3-bab2-47a0-85ed-b0c5799212b8, cd90fa40-b226-43b2-bf24-e79a5145f4ed, 946c3fbd-9100-4afb-857c-d7060471989c, 853148d9-6fff-4c42-bda3-582f68b52b13, fc5f88c4-20a1-4f2a-b2ef-4850b394ea6b, 310dfbe9-cac6-4d79-a984-0bc940b9581e, 9fcc20f8-b187-40a0-bd19-39f37e19079e, 7bb2f2b1-c97a-4a3a-8442-d89c8e71b1a2, 552f8145-f5ea-4b91-a88a-e0d284c44428, 31e43b0b-2371-405d-b5a5-587091be1737, 27f0a457-c86b-4d97-9ba9-d9bfd0e22c42, 1bc25004-16a1-4543-a3e6-ee6f2c2a4592, c1bf0d2b-6e76-4633-b058-e86b9d02a0c2, d1b25e00-e63e-4e6d-9b76-cc8cb6cbec77, 9d753f38-a074-4eec-9ef1-eae117787862, ...\n"
      ]
     },
     "metadata": {},
     "output_type": "display_data"
    },
    {
     "data": {
      "text/plain": [
       "Array(e7267fb3-c6e7-4a7b-8810-536b07f7d092, 1ba0d2cb-e4b8-4a1b-b4b3-41607fbf70ca, 29b41418-ceff-44ab-be66-150acb8cf571, b966b7ec-c6a2-4f87-8762-9a3a526bed00, 77108b3a-10fd-48f5-a392-0f50fcd5f290, bbcea5e3-bab2-47a0-85ed-b0c5799212b8, cd90fa40-b226-43b2-bf24-e79a5145f4ed, 946c3fbd-9100-4afb-857c-d7060471989c, 853148d9-6fff-4c42-bda3-582f68b52b13, fc5f88c4-20a1-4f2a-b2ef-4850b394ea6b, 310dfbe9-cac6-4d79-a984-0bc940b9581e, 9fcc20f8-b187-40a0-bd19-39f37e19079e, 7bb2f2b1-c97a-4a3a-8442-d89c8e71b1a2, 552f8145-f5ea-4b91-a88a-e0d284c44428, 31e43b0b-2371-405d-b5a5-587091be1737, 27f0a457-c86b-4d97-9ba9-d9bfd0e22c42, 1bc25004-16a1-4543-a3e6-ee6f2c2a4592, c1bf0d2b-6e76-4633-b058-e86b9d02a0c2, d1b25e00-e63e-4e6d-9b76-cc8cb6cbec77, 9d753f38-a074-4eec-9ef1-eae117787862, ..."
      ]
     },
     "execution_count": 194,
     "metadata": {},
     "output_type": "execute_result"
    }
   ],
   "source": [
    "val uid_top_visitors = topDomainFeatures.select('uid).rdd.map(r => r(0)).collect"
   ]
  },
  {
   "cell_type": "code",
   "execution_count": 195,
   "metadata": {},
   "outputs": [
    {
     "data": {
      "text/plain": [
       "inferriorDomainFeatures = [uid: string, domain_features: array<bigint>]\n"
      ]
     },
     "metadata": {},
     "output_type": "display_data"
    },
    {
     "data": {
      "text/plain": [
       "[uid: string, domain_features: array<bigint>]"
      ]
     },
     "execution_count": 195,
     "metadata": {},
     "output_type": "execute_result"
    }
   ],
   "source": [
    "val inferriorDomainFeatures = webLogs\n",
    "    .select('uid)\n",
    "    .filter(!col(\"uid\").isInCollection(uid_top_visitors))\n",
    "    .dropDuplicates(\"uid\")\n",
    "    .withColumn(\"domain_features\", array(lit(0).cast(LongType)))"
   ]
  },
  {
   "cell_type": "code",
   "execution_count": 196,
   "metadata": {},
   "outputs": [
    {
     "data": {
      "text/plain": [
       "domainFeatures = [uid1: string, domain_features: array<bigint>]\n"
      ]
     },
     "metadata": {},
     "output_type": "display_data"
    },
    {
     "data": {
      "text/plain": [
       "[uid1: string, domain_features: array<bigint>]"
      ]
     },
     "execution_count": 196,
     "metadata": {},
     "output_type": "execute_result"
    }
   ],
   "source": [
    "val domainFeatures = topDomainFeatures.union(inferriorDomainFeatures).withColumnRenamed(\"uid\", \"uid1\")"
   ]
  },
  {
   "cell_type": "markdown",
   "metadata": {},
   "source": [
    "# web_day"
   ]
  },
  {
   "cell_type": "code",
   "execution_count": 9,
   "metadata": {},
   "outputs": [
    {
     "data": {
      "text/plain": [
       "daysWebMatrix = [uid_days: string, web_day_fri: bigint ... 6 more fields]\n"
      ]
     },
     "metadata": {},
     "output_type": "display_data"
    },
    {
     "data": {
      "text/plain": [
       "[uid_days: string, web_day_fri: bigint ... 6 more fields]"
      ]
     },
     "execution_count": 9,
     "metadata": {},
     "output_type": "execute_result"
    }
   ],
   "source": [
    "val daysWebMatrix = webLogs\n",
    "    .withColumn(\"day_of_week\", concat(lit(\"web_day_\"), lower(date_format(col(\"timestamp\"), \"E\"))))\n",
    "    .drop(\"timestamp\")\n",
    "    .groupBy(\"uid\", \"day_of_week\")\n",
    "    .count\n",
    "    .groupBy(\"uid\")\n",
    "    .pivot(\"day_of_week\")\n",
    "    .sum(\"count\")\n",
    "    .na.fill(0)\n",
    "    .withColumnRenamed(\"uid\", \"uid_days\")"
   ]
  },
  {
   "cell_type": "code",
   "execution_count": 10,
   "metadata": {},
   "outputs": [
    {
     "name": "stdout",
     "output_type": "stream",
     "text": [
      "root\n",
      " |-- uid_days: string (nullable = true)\n",
      " |-- web_day_fri: long (nullable = false)\n",
      " |-- web_day_mon: long (nullable = false)\n",
      " |-- web_day_sat: long (nullable = false)\n",
      " |-- web_day_sun: long (nullable = false)\n",
      " |-- web_day_thu: long (nullable = false)\n",
      " |-- web_day_tue: long (nullable = false)\n",
      " |-- web_day_wed: long (nullable = false)\n",
      "\n"
     ]
    }
   ],
   "source": [
    "daysWebMatrix.printSchema"
   ]
  },
  {
   "cell_type": "markdown",
   "metadata": {},
   "source": [
    "# web_hour"
   ]
  },
  {
   "cell_type": "code",
   "execution_count": 11,
   "metadata": {},
   "outputs": [
    {
     "data": {
      "text/plain": [
       "hoursWebMatrix = [uid_hours: string, web_hour_1: bigint ... 23 more fields]\n"
      ]
     },
     "metadata": {},
     "output_type": "display_data"
    },
    {
     "data": {
      "text/plain": [
       "[uid_hours: string, web_hour_1: bigint ... 23 more fields]"
      ]
     },
     "execution_count": 11,
     "metadata": {},
     "output_type": "execute_result"
    }
   ],
   "source": [
    "val hoursWebMatrix = webLogs\n",
    "    .withColumn(\"hour\", concat(lit(\"web_hour_\"), date_format(col(\"timestamp\"), \"k\")))\n",
    "    .drop(\"timestamp\")\n",
    "    .groupBy(\"uid\", \"hour\")\n",
    "    .count\n",
    "    .groupBy(\"uid\")\n",
    "    .pivot(\"hour\")\n",
    "    .sum(\"count\")\n",
    "    .na.fill(0)\n",
    "    .withColumnRenamed(\"uid\", \"uid_hours\")"
   ]
  },
  {
   "cell_type": "code",
   "execution_count": 12,
   "metadata": {},
   "outputs": [
    {
     "name": "stdout",
     "output_type": "stream",
     "text": [
      "root\n",
      " |-- uid_hours: string (nullable = true)\n",
      " |-- web_hour_1: long (nullable = false)\n",
      " |-- web_hour_10: long (nullable = false)\n",
      " |-- web_hour_11: long (nullable = false)\n",
      " |-- web_hour_12: long (nullable = false)\n",
      " |-- web_hour_13: long (nullable = false)\n",
      " |-- web_hour_14: long (nullable = false)\n",
      " |-- web_hour_15: long (nullable = false)\n",
      " |-- web_hour_16: long (nullable = false)\n",
      " |-- web_hour_17: long (nullable = false)\n",
      " |-- web_hour_18: long (nullable = false)\n",
      " |-- web_hour_19: long (nullable = false)\n",
      " |-- web_hour_2: long (nullable = false)\n",
      " |-- web_hour_20: long (nullable = false)\n",
      " |-- web_hour_21: long (nullable = false)\n",
      " |-- web_hour_22: long (nullable = false)\n",
      " |-- web_hour_23: long (nullable = false)\n",
      " |-- web_hour_24: long (nullable = false)\n",
      " |-- web_hour_3: long (nullable = false)\n",
      " |-- web_hour_4: long (nullable = false)\n",
      " |-- web_hour_5: long (nullable = false)\n",
      " |-- web_hour_6: long (nullable = false)\n",
      " |-- web_hour_7: long (nullable = false)\n",
      " |-- web_hour_8: long (nullable = false)\n",
      " |-- web_hour_9: long (nullable = false)\n",
      "\n"
     ]
    }
   ],
   "source": [
    "hoursWebMatrix.printSchema"
   ]
  },
  {
   "cell_type": "markdown",
   "metadata": {},
   "source": [
    "# web_fraction"
   ]
  },
  {
   "cell_type": "code",
   "execution_count": 30,
   "metadata": {},
   "outputs": [
    {
     "data": {
      "text/plain": [
       "fractWebHours = [uid_fract: string, web_fraction_work_hours: double ... 1 more field]\n"
      ]
     },
     "metadata": {},
     "output_type": "display_data"
    },
    {
     "data": {
      "text/plain": [
       "[uid_fract: string, web_fraction_work_hours: double ... 1 more field]"
      ]
     },
     "execution_count": 30,
     "metadata": {},
     "output_type": "execute_result"
    }
   ],
   "source": [
    "val fractWebHours = webLogs\n",
    "    .withColumn(\"hour\", date_format(col(\"timestamp\"), \"k\"))\n",
    "    .drop(\"timestamp\")\n",
    "    .groupBy(\"uid\")\n",
    "    .agg(\n",
    "        (sum(when('hour >= 9 && 'hour < 18, 1).otherwise(0)) / sum(when('hour >= 0 && 'hour <= 23, 1).otherwise(0)))\n",
    "            .as(\"web_fraction_work_hours\"),\n",
    "        (sum(when('hour >= 18 && 'hour <= 23, 1).otherwise(0)) / sum(when('hour >= 0 && 'hour <= 23, 1).otherwise(0)))\n",
    "            .as(\"web_fraction_evening_hours\")\n",
    "    )\n",
    "    .na.fill(0)\n",
    "    .withColumnRenamed(\"uid\", \"uid_fract\")"
   ]
  },
  {
   "cell_type": "code",
   "execution_count": 31,
   "metadata": {
    "scrolled": true
   },
   "outputs": [
    {
     "name": "stdout",
     "output_type": "stream",
     "text": [
      "root\n",
      " |-- uid_fract: string (nullable = true)\n",
      " |-- web_fraction_work_hours: double (nullable = false)\n",
      " |-- web_fraction_evening_hours: double (nullable = false)\n",
      "\n"
     ]
    }
   ],
   "source": [
    "fractWebHours.printSchema"
   ]
  },
  {
   "cell_type": "markdown",
   "metadata": {},
   "source": [
    "# get users-items matrix"
   ]
  },
  {
   "cell_type": "code",
   "execution_count": 15,
   "metadata": {},
   "outputs": [
    {
     "data": {
      "text/plain": [
       "usersItems = [uid: string, buy_cameras_0: bigint ... 639 more fields]\n"
      ]
     },
     "metadata": {},
     "output_type": "display_data"
    },
    {
     "data": {
      "text/plain": [
       "[uid: string, buy_cameras_0: bigint ... 639 more fields]"
      ]
     },
     "execution_count": 15,
     "metadata": {},
     "output_type": "execute_result"
    }
   ],
   "source": [
    "val usersItems = spark.read.parquet(HDFS_DIR)"
   ]
  },
  {
   "cell_type": "markdown",
   "metadata": {},
   "source": [
    "# union all data"
   ]
  },
  {
   "cell_type": "code",
   "execution_count": 32,
   "metadata": {},
   "outputs": [
    {
     "data": {
      "text/plain": [
       "webDF = [uid1: string, domain_features: array<bigint> ... 33 more fields]\n"
      ]
     },
     "metadata": {},
     "output_type": "display_data"
    },
    {
     "data": {
      "text/plain": [
       "[uid1: string, domain_features: array<bigint> ... 33 more fields]"
      ]
     },
     "execution_count": 32,
     "metadata": {},
     "output_type": "execute_result"
    }
   ],
   "source": [
    "val webDF = domainFeatures\n",
    "    .join(daysWebMatrix, domainFeatures(\"uid1\") === daysWebMatrix(\"uid_days\"), \"inner\").drop(\"uid_days\")\n",
    "    .join(hoursWebMatrix, domainFeatures(\"uid1\") === hoursWebMatrix(\"uid_hours\"), \"inner\").drop(\"uid_hours\")\n",
    "    .join(fractWebHours, domainFeatures(\"uid1\") === fractWebHours(\"uid_fract\"), \"inner\").drop(\"uid_fract\")"
   ]
  },
  {
   "cell_type": "code",
   "execution_count": 33,
   "metadata": {},
   "outputs": [
    {
     "name": "stdout",
     "output_type": "stream",
     "text": [
      "root\n",
      " |-- uid1: string (nullable = true)\n",
      " |-- domain_features: array (nullable = false)\n",
      " |    |-- element: long (containsNull = false)\n",
      " |-- web_day_fri: long (nullable = false)\n",
      " |-- web_day_mon: long (nullable = false)\n",
      " |-- web_day_sat: long (nullable = false)\n",
      " |-- web_day_sun: long (nullable = false)\n",
      " |-- web_day_thu: long (nullable = false)\n",
      " |-- web_day_tue: long (nullable = false)\n",
      " |-- web_day_wed: long (nullable = false)\n",
      " |-- web_hour_1: long (nullable = false)\n",
      " |-- web_hour_10: long (nullable = false)\n",
      " |-- web_hour_11: long (nullable = false)\n",
      " |-- web_hour_12: long (nullable = false)\n",
      " |-- web_hour_13: long (nullable = false)\n",
      " |-- web_hour_14: long (nullable = false)\n",
      " |-- web_hour_15: long (nullable = false)\n",
      " |-- web_hour_16: long (nullable = false)\n",
      " |-- web_hour_17: long (nullable = false)\n",
      " |-- web_hour_18: long (nullable = false)\n",
      " |-- web_hour_19: long (nullable = false)\n",
      " |-- web_hour_2: long (nullable = false)\n",
      " |-- web_hour_20: long (nullable = false)\n",
      " |-- web_hour_21: long (nullable = false)\n",
      " |-- web_hour_22: long (nullable = false)\n",
      " |-- web_hour_23: long (nullable = false)\n",
      " |-- web_hour_24: long (nullable = false)\n",
      " |-- web_hour_3: long (nullable = false)\n",
      " |-- web_hour_4: long (nullable = false)\n",
      " |-- web_hour_5: long (nullable = false)\n",
      " |-- web_hour_6: long (nullable = false)\n",
      " |-- web_hour_7: long (nullable = false)\n",
      " |-- web_hour_8: long (nullable = false)\n",
      " |-- web_hour_9: long (nullable = false)\n",
      " |-- web_fraction_work_hours: double (nullable = false)\n",
      " |-- web_fraction_evening_hours: double (nullable = false)\n",
      "\n"
     ]
    }
   ],
   "source": [
    "webDF.printSchema"
   ]
  },
  {
   "cell_type": "code",
   "execution_count": 34,
   "metadata": {},
   "outputs": [
    {
     "data": {
      "text/plain": [
       "resDF = [uid: string, buy_cameras_0: bigint ... 673 more fields]\n"
      ]
     },
     "metadata": {},
     "output_type": "display_data"
    },
    {
     "data": {
      "text/plain": [
       "[uid: string, buy_cameras_0: bigint ... 673 more fields]"
      ]
     },
     "execution_count": 34,
     "metadata": {},
     "output_type": "execute_result"
    }
   ],
   "source": [
    "val resDF = usersItems.join(webDF, usersItems(\"uid\") === webDF(\"uid1\"), \"full\").drop(\"uid1\")"
   ]
  },
  {
   "cell_type": "code",
   "execution_count": 35,
   "metadata": {},
   "outputs": [],
   "source": [
    "resDF\n",
    "    .write\n",
    "    .format(\"parquet\")\n",
    "    .mode(\"overwrite\")\n",
    "    .save(OUT_DIR)"
   ]
  },
  {
   "cell_type": "code",
   "execution_count": null,
   "metadata": {},
   "outputs": [],
   "source": []
  },
  {
   "cell_type": "code",
   "execution_count": null,
   "metadata": {},
   "outputs": [],
   "source": []
  },
  {
   "cell_type": "code",
   "execution_count": null,
   "metadata": {},
   "outputs": [],
   "source": []
  }
 ],
 "metadata": {
  "kernelspec": {
   "display_name": "Apache Toree - Scala",
   "language": "scala",
   "name": "apache_toree_scala"
  },
  "language_info": {
   "codemirror_mode": "text/x-scala",
   "file_extension": ".scala",
   "mimetype": "text/x-scala",
   "name": "scala",
   "pygments_lexer": "scala",
   "version": "2.11.12"
  }
 },
 "nbformat": 4,
 "nbformat_minor": 2
}
