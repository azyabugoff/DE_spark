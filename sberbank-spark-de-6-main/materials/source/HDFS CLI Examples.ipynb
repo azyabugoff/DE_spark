{
 "cells": [
  {
   "cell_type": "code",
   "execution_count": 32,
   "metadata": {},
   "outputs": [
    {
     "name": "stdout",
     "output_type": "stream",
     "text": [
      "/data/home/egor.mateshuk\r\n"
     ]
    }
   ],
   "source": [
    "! pwd"
   ]
  },
  {
   "cell_type": "code",
   "execution_count": 33,
   "metadata": {},
   "outputs": [
    {
     "name": "stdout",
     "output_type": "stream",
     "text": [
      "Found 15 items\r\n",
      "drwxrwxrwt   - yarn   hadoop          0 2020-04-20 18:14 /app-logs\r\n",
      "drwxr-xr-x   - hdfs   hdfs            0 2020-04-18 23:48 /apps\r\n",
      "drwxr-xr-x   - yarn   hadoop          0 2020-04-18 23:13 /ats\r\n",
      "drwxr-xr-x   - hdfs   hdfs            0 2020-04-18 23:14 /atsv2\r\n",
      "drwxr-xr-x   - hdfs   hdfs            0 2020-04-18 23:13 /hdp\r\n",
      "drwxr-xr-x   - hdfs   hdfs            0 2020-04-20 12:37 /labs\r\n",
      "drwxr-xr-x   - hdfs   hdfs            0 2020-04-20 11:59 /lectures\r\n",
      "drwxr-xr-x   - mapred hdfs            0 2020-04-18 23:13 /mapred\r\n",
      "drwxrwxrwx   - mapred hadoop          0 2020-04-18 23:14 /mr-history\r\n",
      "drwxr-xr-x   - hdfs   hdfs            0 2020-04-18 23:13 /ranger\r\n",
      "drwxr-xr-x   - hdfs   hdfs            0 2020-04-18 23:13 /services\r\n",
      "drwxrwxrwx   - spark  hadoop          0 2020-04-20 17:36 /spark2-history\r\n",
      "drwxrwxrwx   - hdfs   hdfs            0 2020-04-20 18:17 /tmp\r\n",
      "drwxr-xr-x   - hdfs   hdfs            0 2020-04-20 16:58 /user\r\n",
      "drwxr-xr-x   - hdfs   hdfs            0 2020-04-18 23:15 /warehouse\r\n"
     ]
    }
   ],
   "source": [
    "! hdfs dfs -ls /"
   ]
  },
  {
   "cell_type": "code",
   "execution_count": 34,
   "metadata": {},
   "outputs": [
    {
     "name": "stdout",
     "output_type": "stream",
     "text": [
      "Found 15 items\r\n",
      "drwxrwxrwt   - yarn   hadoop          0 2020-04-20 18:14 /app-logs\r\n",
      "drwxr-xr-x   - hdfs   hdfs            0 2020-04-18 23:48 /apps\r\n",
      "drwxr-xr-x   - yarn   hadoop          0 2020-04-18 23:13 /ats\r\n",
      "drwxr-xr-x   - hdfs   hdfs            0 2020-04-18 23:14 /atsv2\r\n",
      "drwxr-xr-x   - hdfs   hdfs            0 2020-04-18 23:13 /hdp\r\n",
      "drwxr-xr-x   - hdfs   hdfs            0 2020-04-20 12:37 /labs\r\n",
      "drwxr-xr-x   - hdfs   hdfs            0 2020-04-20 11:59 /lectures\r\n",
      "drwxr-xr-x   - mapred hdfs            0 2020-04-18 23:13 /mapred\r\n",
      "drwxrwxrwx   - mapred hadoop          0 2020-04-18 23:14 /mr-history\r\n",
      "drwxr-xr-x   - hdfs   hdfs            0 2020-04-18 23:13 /ranger\r\n",
      "drwxr-xr-x   - hdfs   hdfs            0 2020-04-18 23:13 /services\r\n",
      "drwxrwxrwx   - spark  hadoop          0 2020-04-20 17:36 /spark2-history\r\n",
      "drwxrwxrwx   - hdfs   hdfs            0 2020-04-20 18:17 /tmp\r\n",
      "drwxr-xr-x   - hdfs   hdfs            0 2020-04-20 16:58 /user\r\n",
      "drwxr-xr-x   - hdfs   hdfs            0 2020-04-18 23:15 /warehouse\r\n"
     ]
    }
   ],
   "source": [
    "! hadoop fs -ls /"
   ]
  },
  {
   "cell_type": "code",
   "execution_count": 35,
   "metadata": {},
   "outputs": [],
   "source": [
    "! hdfs dfs -mkdir /tmp/hdfs-cli-example"
   ]
  },
  {
   "cell_type": "code",
   "execution_count": 36,
   "metadata": {},
   "outputs": [],
   "source": [
    "! hdfs dfs -ls /tmp/hdfs-cli-example"
   ]
  },
  {
   "cell_type": "code",
   "execution_count": 37,
   "metadata": {},
   "outputs": [],
   "source": [
    "! echo \"Hadoop is awesome!\" > example.txt"
   ]
  },
  {
   "cell_type": "code",
   "execution_count": 38,
   "metadata": {},
   "outputs": [
    {
     "name": "stdout",
     "output_type": "stream",
     "text": [
      "Hadoop is awesome!\r\n"
     ]
    }
   ],
   "source": [
    "! cat example.txt"
   ]
  },
  {
   "cell_type": "code",
   "execution_count": 39,
   "metadata": {},
   "outputs": [],
   "source": [
    "! hdfs dfs -put example.txt /tmp/hdfs-cli-example/"
   ]
  },
  {
   "cell_type": "code",
   "execution_count": 40,
   "metadata": {},
   "outputs": [
    {
     "name": "stdout",
     "output_type": "stream",
     "text": [
      "Found 1 items\r\n",
      "-rw-r--r--   3 egor.mateshuk hdfs         19 2020-04-20 20:48 /tmp/hdfs-cli-example/example.txt\r\n"
     ]
    }
   ],
   "source": [
    "! hdfs dfs -ls /tmp/hdfs-cli-example"
   ]
  },
  {
   "cell_type": "code",
   "execution_count": 41,
   "metadata": {},
   "outputs": [
    {
     "name": "stdout",
     "output_type": "stream",
     "text": [
      "Hadoop is awesome!\r\n"
     ]
    }
   ],
   "source": [
    "! hdfs dfs -cat /tmp/hdfs-cli-example/example.txt"
   ]
  },
  {
   "cell_type": "code",
   "execution_count": 42,
   "metadata": {},
   "outputs": [],
   "source": [
    "! hdfs dfs -cp /tmp/hdfs-cli-example/example.txt /tmp/hdfs-cli-example/example2.txt"
   ]
  },
  {
   "cell_type": "code",
   "execution_count": 43,
   "metadata": {},
   "outputs": [
    {
     "name": "stdout",
     "output_type": "stream",
     "text": [
      "Found 2 items\r\n",
      "-rw-r--r--   3 egor.mateshuk hdfs         19 2020-04-20 20:48 /tmp/hdfs-cli-example/example.txt\r\n",
      "-rw-r--r--   3 egor.mateshuk hdfs         19 2020-04-20 20:49 /tmp/hdfs-cli-example/example2.txt\r\n"
     ]
    }
   ],
   "source": [
    "! hdfs dfs -ls /tmp/hdfs-cli-example"
   ]
  },
  {
   "cell_type": "code",
   "execution_count": 44,
   "metadata": {},
   "outputs": [],
   "source": [
    "! hdfs dfs -get /tmp/hdfs-cli-example/example2.txt ./"
   ]
  },
  {
   "cell_type": "code",
   "execution_count": 45,
   "metadata": {},
   "outputs": [
    {
     "name": "stdout",
     "output_type": "stream",
     "text": [
      "example2.txt  example.txt  HDFS CLI Examples.ipynb  map_reduce\r\n"
     ]
    }
   ],
   "source": [
    "! ls"
   ]
  },
  {
   "cell_type": "code",
   "execution_count": 46,
   "metadata": {},
   "outputs": [
    {
     "name": "stdout",
     "output_type": "stream",
     "text": [
      "19  57  /tmp/hdfs-cli-example/example.txt\r\n"
     ]
    }
   ],
   "source": [
    "! hdfs dfs -du -h /tmp/hdfs-cli-example/example.txt"
   ]
  },
  {
   "cell_type": "code",
   "execution_count": 47,
   "metadata": {},
   "outputs": [
    {
     "name": "stdout",
     "output_type": "stream",
     "text": [
      "Connecting to namenode via http://spark-ds-master1.newprolab.com:50070/fsck?ugi=egor.mateshuk&files=1&blocks=1&locations=1&path=%2Ftmp%2Fhdfs-cli-example%2Fexample.txt\r\n",
      "FSCK started by egor.mateshuk (auth:SIMPLE) from /10.0.0.11 for path /tmp/hdfs-cli-example/example.txt at Mon Apr 20 20:51:06 MSK 2020\r\n",
      "/tmp/hdfs-cli-example/example.txt 19 bytes, replicated: replication=3, 1 block(s):  OK\r\n",
      "0. BP-2108658138-10.0.0.11-1587240794229:blk_1073742830_2035 len=19 Live_repl=3  [DatanodeInfoWithStorage[10.0.0.20:50010,DS-dbc7de24-f968-453b-829f-8844eec66b14,DISK], DatanodeInfoWithStorage[10.0.0.9:50010,DS-ab8fc6e6-042a-4b25-958f-22fd39757371,DISK], DatanodeInfoWithStorage[10.0.0.11:50010,DS-6a1e6f27-e0f3-4b93-b8df-9a8e9f0d4269,DISK]]\r\n",
      "\r\n",
      "\r\n",
      "Status: HEALTHY\r\n",
      " Number of data-nodes:\t10\r\n",
      " Number of racks:\t\t1\r\n",
      " Total dirs:\t\t\t0\r\n",
      " Total symlinks:\t\t0\r\n",
      "\r\n",
      "Replicated Blocks:\r\n",
      " Total size:\t19 B\r\n",
      " Total files:\t1\r\n",
      " Total blocks (validated):\t1 (avg. block size 19 B)\r\n",
      " Minimally replicated blocks:\t1 (100.0 %)\r\n",
      " Over-replicated blocks:\t0 (0.0 %)\r\n",
      " Under-replicated blocks:\t0 (0.0 %)\r\n",
      " Mis-replicated blocks:\t\t0 (0.0 %)\r\n",
      " Default replication factor:\t3\r\n",
      " Average block replication:\t3.0\r\n",
      " Missing blocks:\t\t0\r\n",
      " Corrupt blocks:\t\t0\r\n",
      " Missing replicas:\t\t0 (0.0 %)\r\n",
      "\r\n",
      "Erasure Coded Block Groups:\r\n",
      " Total size:\t0 B\r\n",
      " Total files:\t0\r\n",
      " Total block groups (validated):\t0\r\n",
      " Minimally erasure-coded block groups:\t0\r\n",
      " Over-erasure-coded block groups:\t0\r\n",
      " Under-erasure-coded block groups:\t0\r\n",
      " Unsatisfactory placement block groups:\t0\r\n",
      " Average block group size:\t0.0\r\n",
      " Missing block groups:\t\t0\r\n",
      " Corrupt block groups:\t\t0\r\n",
      " Missing internal blocks:\t0\r\n",
      "FSCK ended at Mon Apr 20 20:51:06 MSK 2020 in 1 milliseconds\r\n",
      "\r\n",
      "\r\n",
      "The filesystem under path '/tmp/hdfs-cli-example/example.txt' is HEALTHY\r\n"
     ]
    }
   ],
   "source": [
    "! hdfs fsck /tmp/hdfs-cli-example/example.txt -files -blocks -locations"
   ]
  },
  {
   "cell_type": "code",
   "execution_count": 48,
   "metadata": {},
   "outputs": [],
   "source": [
    "! rm example.txt example2.txt"
   ]
  },
  {
   "cell_type": "code",
   "execution_count": 49,
   "metadata": {},
   "outputs": [
    {
     "name": "stdout",
     "output_type": "stream",
     "text": [
      "20/04/20 20:53:16 INFO fs.TrashPolicyDefault: Moved: 'hdfs://spark-ds-master1.newprolab.com:8020/tmp/hdfs-cli-example' to trash at: hdfs://spark-ds-master1.newprolab.com:8020/user/egor.mateshuk/.Trash/Current/tmp/hdfs-cli-example\r\n"
     ]
    }
   ],
   "source": [
    "! hdfs dfs -rm -r /tmp/hdfs-cli-example"
   ]
  },
  {
   "cell_type": "code",
   "execution_count": null,
   "metadata": {},
   "outputs": [],
   "source": []
  }
 ],
 "metadata": {
  "kernelspec": {
   "display_name": "Python 3",
   "language": "python",
   "name": "python3"
  },
  "language_info": {
   "codemirror_mode": {
    "name": "ipython",
    "version": 3
   },
   "file_extension": ".py",
   "mimetype": "text/x-python",
   "name": "python",
   "nbconvert_exporter": "python",
   "pygments_lexer": "ipython3",
   "version": "3.7.1"
  }
 },
 "nbformat": 4,
 "nbformat_minor": 2
}
