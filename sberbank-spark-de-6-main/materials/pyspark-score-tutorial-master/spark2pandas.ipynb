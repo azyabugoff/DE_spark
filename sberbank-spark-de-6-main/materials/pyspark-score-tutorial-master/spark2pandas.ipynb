{
  "cells": [
    {
      "cell_type": "markdown",
      "source": [
        "# Spark DataFrames to Pandas conversion"
      ],
      "metadata": {}
    },
    {
      "cell_type": "markdown",
      "source": [
        "## toPandas with Arrow"
      ],
      "metadata": {}
    },
    {
      "cell_type": "code",
      "source": [
        "from pyspark.sql import SparkSession\n",
        "ss = SparkSession.builder.getOrCreate()\n",
        "\n",
        "from pyspark.sql.functions import rand\n",
        "from pyspark.sql import Row\n",
        "df = ss.sparkContext.range(1 << 22).map(lambda e: Row(uid=e)).toDF().withColumn(\"x\", rand())\n",
        "df.printSchema()"
      ],
      "outputs": [
        {
          "output_type": "stream",
          "name": "stdout",
          "text": [
            "root\n",
            " |-- uid: long (nullable = true)\n",
            " |-- x: double (nullable = false)\n",
            "\n"
          ]
        }
      ],
      "execution_count": 2,
      "metadata": {}
    },
    {
      "cell_type": "code",
      "source": [
        "ss.conf.set(\"spark.sql.execution.arrow.enabled\", \"false\")\n",
        "\n",
        "%time pdf = df.toPandas()"
      ],
      "outputs": [
        {
          "output_type": "stream",
          "name": "stdout",
          "text": [
            "CPU times: user 16.2 s, sys: 1.35 s, total: 17.5 s\n",
            "Wall time: 32.2 s\n"
          ]
        }
      ],
      "execution_count": 12,
      "metadata": {}
    },
    {
      "cell_type": "code",
      "source": [
        "ss.conf.set(\"spark.sql.execution.arrow.enabled\", \"true\")\n",
        "\n",
        "%time pdf = df.toPandas()"
      ],
      "outputs": [
        {
          "output_type": "stream",
          "name": "stdout",
          "text": [
            "CPU times: user 57.6 ms, sys: 69.2 ms, total: 127 ms\n",
            "Wall time: 11.9 s\n"
          ]
        }
      ],
      "execution_count": 13,
      "metadata": {}
    },
    {
      "cell_type": "markdown",
      "source": [
        "## toPandas using mapPartitions"
      ],
      "metadata": {}
    },
    {
      "cell_type": "code",
      "source": [
        "from pyspark.sql import SparkSession\n",
        "ss = SparkSession.builder.getOrCreate()\n",
        "\n",
        "from pyspark.sql.functions import rand\n",
        "from pyspark.sql import Row\n",
        "df = ss.sparkContext.range(1 << 22).map(lambda e: Row(uid=e)).toDF().withColumn(\"x\", rand())\n",
        "df = df.repartition(100)\n",
        "df.printSchema()"
      ],
      "outputs": [
        {
          "output_type": "stream",
          "name": "stdout",
          "text": [
            "root\n",
            " |-- uid: long (nullable = true)\n",
            " |-- x: double (nullable = false)\n",
            "\n"
          ]
        }
      ],
      "execution_count": 5,
      "metadata": {}
    },
    {
      "cell_type": "code",
      "source": [
        "import pandas as pd\n",
        "\n",
        "def map_to_pandas(rdds):\n",
        "    return [pd.DataFrame(list(rdds))]\n",
        "\n",
        "%time parts = df.rdd.mapPartitions(map_to_pandas).collect()\n",
        "%time pdf = pd.concat(parts)"
      ],
      "outputs": [
        {
          "output_type": "stream",
          "name": "stdout",
          "text": [
            "CPU times: user 73 ms, sys: 55.8 ms, total: 129 ms\n",
            "Wall time: 10.5 s\n",
            "CPU times: user 54.4 ms, sys: 49.5 ms, total: 104 ms\n",
            "Wall time: 104 ms\n"
          ]
        }
      ],
      "execution_count": 7,
      "metadata": {}
    },
    {
      "cell_type": "code",
      "source": [],
      "outputs": [],
      "execution_count": null,
      "metadata": {}
    }
  ],
  "metadata": {
    "kernelspec": {
      "display_name": "Python 3",
      "language": "python",
      "name": "python3"
    },
    "language_info": {
      "codemirror_mode": {
        "name": "ipython",
        "version": 3
      },
      "file_extension": ".py",
      "mimetype": "text/x-python",
      "name": "python",
      "nbconvert_exporter": "python",
      "pygments_lexer": "ipython3",
      "version": "3.6.7"
    },
    "nteract": {
      "version": "0.23.3"
    }
  },
  "nbformat": 4,
  "nbformat_minor": 2
}