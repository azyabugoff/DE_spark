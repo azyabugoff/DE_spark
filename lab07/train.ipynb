{
 "cells": [
  {
   "cell_type": "code",
   "execution_count": 4,
   "metadata": {},
   "outputs": [],
   "source": [
    "import org.apache.spark.sql.functions._"
   ]
  },
  {
   "cell_type": "code",
   "execution_count": 1,
   "metadata": {},
   "outputs": [
    {
     "data": {
      "text/plain": [
       "Waiting for a Spark session to start..."
      ]
     },
     "metadata": {},
     "output_type": "display_data"
    },
    {
     "data": {
      "text/plain": [
       "df = [uid: string, gender_age: string ... 2 more fields]\n"
      ]
     },
     "metadata": {},
     "output_type": "display_data"
    },
    {
     "data": {
      "text/plain": [
       "[uid: string, gender_age: string ... 2 more fields]"
      ]
     },
     "execution_count": 1,
     "metadata": {},
     "output_type": "execute_result"
    }
   ],
   "source": [
    "val df = spark\n",
    "    .read\n",
    "    .option(\"header\", true)\n",
    "    .json(\"/labs/laba07/laba07.json\")\n",
    "    .select('*, explode(col(\"visits\")))\n",
    "    .select('uid, 'gender_age, col(\"col.*\"))\n",
    "    .na.drop(List(\"uid\"))\n",
    "    .withColumn(\"url\", lower(callUDF(\"parse_url\", col(\"url\"), lit(\"HOST\"))))\n",
    "    .withColumn(\"url\", regexp_replace(col(\"url\"), \"www.\", \"\"))\n",
    "    .toDF\n",
    "    .na.drop(List(\"url\"))"
   ]
  },
  {
   "cell_type": "code",
   "execution_count": 2,
   "metadata": {},
   "outputs": [
    {
     "name": "stdout",
     "output_type": "stream",
     "text": [
      "root\n",
      " |-- uid: string (nullable = true)\n",
      " |-- gender_age: string (nullable = true)\n",
      " |-- timestamp: long (nullable = true)\n",
      " |-- url: string (nullable = true)\n",
      "\n"
     ]
    }
   ],
   "source": [
    "df.printSchema"
   ]
  },
  {
   "cell_type": "code",
   "execution_count": 3,
   "metadata": {},
   "outputs": [
    {
     "data": {
      "text/plain": [
       "train_df = [uid: string, gender_age: string ... 1 more field]\n"
      ]
     },
     "metadata": {},
     "output_type": "display_data"
    },
    {
     "data": {
      "text/plain": [
       "[uid: string, gender_age: string ... 1 more field]"
      ]
     },
     "execution_count": 3,
     "metadata": {},
     "output_type": "execute_result"
    }
   ],
   "source": [
    "val train_df = df\n",
    "    .groupBy(\"uid\", \"gender_age\")\n",
    "    .agg(collect_list('url).as(\"domains\"))"
   ]
  },
  {
   "cell_type": "code",
   "execution_count": 4,
   "metadata": {},
   "outputs": [
    {
     "name": "stdout",
     "output_type": "stream",
     "text": [
      "+--------------------+----------+--------------------+\n",
      "|                 uid|gender_age|             domains|\n",
      "+--------------------+----------+--------------------+\n",
      "|032f99d3-18c1-40e...|   F:25-34|[http, cabinet.sa...|\n",
      "|0355d721-ad22-473...|   F:25-34|[mail.qip.ru, mai...|\n",
      "|03f6cef2-5208-43f...|   M:35-44|[myvideopl.com, 4...|\n",
      "|03fb8ac3-2b5c-4da...|   F:25-34|[cenamashin.ru, o...|\n",
      "|0520b6a6-4397-42f...|   M:25-34|[simpsonsvideos.r...|\n",
      "|0552bcaf-c256-474...|   M:35-44|[urbangroup.ru, l...|\n",
      "|09e2b2ed-eea5-457...|   F:35-44|[wh-lady.ru, post...|\n",
      "|0a5a08ce-2645-483...|   F:25-34|     [hullabaloo.ru]|\n",
      "|0a87adc3-b78d-4cd...|   M:25-34|[bigcinema.tv, bi...|\n",
      "|0b130223-5e9c-4f1...|   F:25-34|[baskino.com, avi...|\n",
      "|0b2cc555-2e1c-415...|   M:25-34|[avito.ru, avito....|\n",
      "|0e0ae02c-eaec-42e...|   F:25-34|[bankreferatov.ru...|\n",
      "|0e314d01-3ca5-4eb...|   F:25-34|[an.yandex.ru, ma...|\n",
      "|0f1b8aaa-afc5-4c0...|   M:25-34|[tvcok.ru, tvcok....|\n",
      "|0fb2fe52-6fc2-429...|   F:35-44|[longdress.ru, un...|\n",
      "|1163e860-8a31-43d...|   F:35-44|[wf.mail.ru, wf.m...|\n",
      "|11eae7d8-c67a-41f...|   M:35-44|[avtovokzaly.ru, ...|\n",
      "|12006249-cc77-432...|   M:25-34|[content.adspynet...|\n",
      "|1477268b-4071-421...|   F:18-24|[2015godkozy.com,...|\n",
      "|14f1449a-6a29-464...|   M:25-34|[ssisters.ru, beb...|\n",
      "+--------------------+----------+--------------------+\n",
      "only showing top 20 rows\n",
      "\n"
     ]
    }
   ],
   "source": [
    "train_df.show"
   ]
  },
  {
   "cell_type": "code",
   "execution_count": 5,
   "metadata": {},
   "outputs": [],
   "source": [
    "import org.apache.spark.ml.classification.LogisticRegression\n",
    "import org.apache.spark.ml.feature.{CountVectorizer, StringIndexer, IndexToString}\n",
    "import org.apache.spark.ml.{Pipeline, PipelineModel}"
   ]
  },
  {
   "cell_type": "code",
   "execution_count": 6,
   "metadata": {},
   "outputs": [
    {
     "data": {
      "text/plain": [
       "cv = cntVec_429b475fd416\n",
       "indexer = strIdx_c31e32dcf797\n",
       "labels = Array(M:25-34, F:25-34, M:35-44, F:35-44, F:18-24, F:45-54, M:45-54, M:18-24, F:>=55, M:>=55)\n",
       "lr = logreg_cc4bbfdc8fbd\n",
       "revIndexer = idxToStr_43305836d4d9\n",
       "pipeline = pipeline_4150d16472e5\n"
      ]
     },
     "metadata": {},
     "output_type": "display_data"
    },
    {
     "data": {
      "text/plain": [
       "pipeline_4150d16472e5"
      ]
     },
     "execution_count": 6,
     "metadata": {},
     "output_type": "execute_result"
    }
   ],
   "source": [
    "val cv = new CountVectorizer()\n",
    "      .setInputCol(\"domains\")\n",
    "      .setOutputCol(\"features\")\n",
    "\n",
    "val indexer = new StringIndexer()\n",
    "        .setInputCol(\"gender_age\")\n",
    "        .setOutputCol(\"label\")\n",
    "\n",
    "val labels = indexer.fit(train_df).labels\n",
    "\n",
    "val lr = new LogisticRegression()\n",
    "        .setMaxIter(10)\n",
    "        .setRegParam(0.001)\n",
    "\n",
    "val revIndexer = new IndexToString()\n",
    "        .setInputCol(\"prediction\")\n",
    "        .setLabels(labels)\n",
    "        .setOutputCol(\"res\")\n",
    "\n",
    "val pipeline = new Pipeline()\n",
    "      .setStages(Array(cv, indexer, lr, revIndexer))"
   ]
  },
  {
   "cell_type": "code",
   "execution_count": 7,
   "metadata": {},
   "outputs": [
    {
     "name": "stdout",
     "output_type": "stream",
     "text": [
      "root\n",
      " |-- uid: string (nullable = true)\n",
      " |-- gender_age: string (nullable = true)\n",
      " |-- timestamp: long (nullable = true)\n",
      " |-- url: string (nullable = true)\n",
      "\n"
     ]
    }
   ],
   "source": [
    "df.printSchema"
   ]
  },
  {
   "cell_type": "code",
   "execution_count": 8,
   "metadata": {},
   "outputs": [
    {
     "data": {
      "text/plain": [
       "model = pipeline_4150d16472e5\n"
      ]
     },
     "metadata": {},
     "output_type": "display_data"
    },
    {
     "data": {
      "text/plain": [
       "pipeline_4150d16472e5"
      ]
     },
     "execution_count": 8,
     "metadata": {},
     "output_type": "execute_result"
    }
   ],
   "source": [
    "val model = pipeline.fit(train_df)"
   ]
  },
  {
   "cell_type": "code",
   "execution_count": 9,
   "metadata": {},
   "outputs": [],
   "source": [
    "model.write.overwrite().save(\"lab07_model\")"
   ]
  },
  {
   "cell_type": "code",
   "execution_count": null,
   "metadata": {},
   "outputs": [],
   "source": []
  },
  {
   "cell_type": "code",
   "execution_count": null,
   "metadata": {},
   "outputs": [],
   "source": []
  },
  {
   "cell_type": "code",
   "execution_count": null,
   "metadata": {},
   "outputs": [],
   "source": []
  }
 ],
 "metadata": {
  "kernelspec": {
   "display_name": "Apache Toree - Scala",
   "language": "scala",
   "name": "apache_toree_scala"
  },
  "language_info": {
   "codemirror_mode": "text/x-scala",
   "file_extension": ".scala",
   "mimetype": "text/x-scala",
   "name": "scala",
   "pygments_lexer": "scala",
   "version": "2.11.12"
  }
 },
 "nbformat": 4,
 "nbformat_minor": 2
}
