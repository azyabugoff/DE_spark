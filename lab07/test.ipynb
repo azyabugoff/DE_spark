{
 "cells": [
  {
   "cell_type": "code",
   "execution_count": 2,
   "metadata": {},
   "outputs": [],
   "source": [
    "import org.apache.spark.ml.classification.LogisticRegression\n",
    "import org.apache.spark.ml.feature.{CountVectorizer, StringIndexer, IndexToString}\n",
    "import org.apache.spark.ml.{Pipeline, PipelineModel}\n",
    "import org.apache.spark.sql.streaming.Trigger\n",
    "import org.apache.spark.sql.functions._\n",
    "import org.apache.spark.sql.types._"
   ]
  },
  {
   "cell_type": "code",
   "execution_count": 3,
   "metadata": {},
   "outputs": [
    {
     "data": {
      "text/plain": [
       "killAll: ()Unit\n"
      ]
     },
     "metadata": {},
     "output_type": "display_data"
    }
   ],
   "source": [
    "def killAll() = {\n",
    "    SparkSession\n",
    "        .active\n",
    "        .streams\n",
    "        .active\n",
    "        .foreach { x =>\n",
    "                    val desc = x.lastProgress.sources.head.description\n",
    "                    x.stop\n",
    "                    println(s\"Stopped ${desc}\")\n",
    "        }               \n",
    "}"
   ]
  },
  {
   "cell_type": "code",
   "execution_count": 5,
   "metadata": {},
   "outputs": [
    {
     "data": {
      "text/plain": [
       "Waiting for a Spark session to start..."
      ]
     },
     "metadata": {},
     "output_type": "display_data"
    },
    {
     "data": {
      "text/plain": [
       "dfInput = [value: string, jsonData: struct<uid: string, visits: array<struct<url:string,timestamp:bigint>>>]\n"
      ]
     },
     "metadata": {},
     "output_type": "display_data"
    },
    {
     "data": {
      "text/plain": [
       "[value: string, jsonData: struct<uid: string, visits: array<struct<url:string,timestamp:bigint>>>]"
      ]
     },
     "execution_count": 5,
     "metadata": {},
     "output_type": "execute_result"
    }
   ],
   "source": [
    "val dfInput = spark\n",
    "    .readStream\n",
    "    .format(\"kafka\")\n",
    "    .option(\"kafka.bootstrap.servers\", \"spark-master-1:6667\")\n",
    "    .option(\"subscribe\", \"lab07_in\")\n",
    "    .load()\n",
    "    .selectExpr(\"CAST(value AS STRING)\")"
   ]
  },
  {
   "cell_type": "code",
   "execution_count": 47,
   "metadata": {},
   "outputs": [
    {
     "data": {
      "text/plain": [
       "schema = StructType(StructField(uid,StringType,true), StructField(visits,ArrayType(StructType(StructField(url,StringType,true), StructField(timestamp,LongType,true)),true),true))\n"
      ]
     },
     "metadata": {},
     "output_type": "display_data"
    },
    {
     "data": {
      "text/plain": [
       "StructType(StructField(uid,StringType,true), StructField(visits,ArrayType(StructType(StructField(url,StringType,true), StructField(timestamp,LongType,true)),true),true))"
      ]
     },
     "execution_count": 47,
     "metadata": {},
     "output_type": "execute_result"
    }
   ],
   "source": [
    "val schema = new StructType()\n",
    "    .add(\"uid\", StringType)\n",
    "    .add(\"visits\", ArrayType(new StructType()\n",
    "        .add(\"url\", StringType)\n",
    "        .add(\"timestamp\", LongType)))"
   ]
  },
  {
   "cell_type": "code",
   "execution_count": 79,
   "metadata": {},
   "outputs": [
    {
     "data": {
      "text/plain": [
       "dfUnpacked = [uid: string, domains: array<string>]\n"
      ]
     },
     "metadata": {},
     "output_type": "display_data"
    },
    {
     "data": {
      "text/plain": [
       "lastException: Throwable = null\n"
      ]
     },
     "metadata": {},
     "output_type": "display_data"
    },
    {
     "data": {
      "text/plain": [
       "[uid: string, domains: array<string>]"
      ]
     },
     "execution_count": 79,
     "metadata": {},
     "output_type": "execute_result"
    }
   ],
   "source": [
    "val dfUnpacked = dfInput\n",
    "    .withColumn(\"jsonData\", from_json(col(\"value\"), schema))\n",
    "    .select(\"jsonData.uid\", \"jsonData.visits\")\n",
    "    .withColumn(\"url\", explode(col(\"visits.url\")))\n",
    "    .withColumn(\"domains\", lower(callUDF(\"parse_url\", col(\"url\"), lit(\"HOST\"))))\n",
    "    .withColumn(\"domains\", regexp_replace(col(\"domains\"), \"www.\", \"\"))\n",
    "    .select(\"uid\", \"domains\")\n",
    "    .groupBy(\"uid\").agg(collect_list(\"domains\").as(\"domains\"))"
   ]
  },
  {
   "cell_type": "code",
   "execution_count": 80,
   "metadata": {},
   "outputs": [
    {
     "name": "stdout",
     "output_type": "stream",
     "text": [
      "root\n",
      " |-- uid: string (nullable = true)\n",
      " |-- domains: array (nullable = true)\n",
      " |    |-- element: string (containsNull = true)\n",
      "\n"
     ]
    }
   ],
   "source": [
    "dfUnpacked.printSchema"
   ]
  },
  {
   "cell_type": "code",
   "execution_count": 81,
   "metadata": {},
   "outputs": [
    {
     "data": {
      "text/plain": [
       "model = pipeline_0fe14b543b83\n"
      ]
     },
     "metadata": {},
     "output_type": "display_data"
    },
    {
     "data": {
      "text/plain": [
       "pipeline_0fe14b543b83"
      ]
     },
     "execution_count": 81,
     "metadata": {},
     "output_type": "execute_result"
    }
   ],
   "source": [
    "val model = PipelineModel.load(\"log_reg\")"
   ]
  },
  {
   "cell_type": "code",
   "execution_count": 96,
   "metadata": {},
   "outputs": [
    {
     "data": {
      "text/plain": [
       "dfPredict = [uid: string, gender_age: string]\n"
      ]
     },
     "metadata": {},
     "output_type": "display_data"
    },
    {
     "data": {
      "text/plain": [
       "[uid: string, gender_age: string]"
      ]
     },
     "execution_count": 96,
     "metadata": {},
     "output_type": "execute_result"
    }
   ],
   "source": [
    "val dfPredict = model.transform(dfUnpacked)\n",
    "    .withColumnRenamed(\"res\", \"gender_age\")\n",
    "    .select('uid, 'gender_age)"
   ]
  },
  {
   "cell_type": "code",
   "execution_count": 101,
   "metadata": {},
   "outputs": [
    {
     "name": "stdout",
     "output_type": "stream",
     "text": [
      "root\n",
      " |-- uid: string (nullable = true)\n",
      " |-- gender_age: string (nullable = true)\n",
      "\n"
     ]
    }
   ],
   "source": [
    "dfPredict.printSchema"
   ]
  },
  {
   "cell_type": "code",
   "execution_count": 98,
   "metadata": {},
   "outputs": [
    {
     "data": {
      "text/plain": [
       "org.apache.spark.sql.execution.streaming.StreamingQueryWrapper@48464a6"
      ]
     },
     "execution_count": 98,
     "metadata": {},
     "output_type": "execute_result"
    },
    {
     "name": "stdout",
     "output_type": "stream",
     "text": [
      "-------------------------------------------\n",
      "Batch: 0\n",
      "-------------------------------------------\n",
      "+---+-----+\n",
      "|key|value|\n",
      "+---+-----+\n",
      "+---+-----+\n",
      "\n",
      "-------------------------------------------\n",
      "Batch: 1\n",
      "-------------------------------------------\n",
      "+------------------------------------+---------------------------------------------------------------------+\n",
      "|key                                 |value                                                                |\n",
      "+------------------------------------+---------------------------------------------------------------------+\n",
      "|1d160259-73d8-4514-911e-757042b22812|{\"uid\":\"1d160259-73d8-4514-911e-757042b22812\",\"gender_age\":\"F:25-34\"}|\n",
      "|47565df3-13e3-4609-948c-b0853f66d773|{\"uid\":\"47565df3-13e3-4609-948c-b0853f66d773\",\"gender_age\":\"M:25-34\"}|\n",
      "|4766a8ab-e9b6-4e0d-b3be-59be354401d5|{\"uid\":\"4766a8ab-e9b6-4e0d-b3be-59be354401d5\",\"gender_age\":\"M:35-44\"}|\n",
      "|7302e78a-ec04-47ee-bb6d-2a2cc07f4845|{\"uid\":\"7302e78a-ec04-47ee-bb6d-2a2cc07f4845\",\"gender_age\":\"M:35-44\"}|\n",
      "|73081df3-8f41-4351-b879-0f61f77d9404|{\"uid\":\"73081df3-8f41-4351-b879-0f61f77d9404\",\"gender_age\":\"F:25-34\"}|\n",
      "|bdf76ff9-49d8-42a1-90a8-08be8cd530a8|{\"uid\":\"bdf76ff9-49d8-42a1-90a8-08be8cd530a8\",\"gender_age\":\"M:35-44\"}|\n",
      "|1ddfc200-e692-464c-bc10-071d87ec121f|{\"uid\":\"1ddfc200-e692-464c-bc10-071d87ec121f\",\"gender_age\":\"M:18-24\"}|\n",
      "|47194d6b-dcb3-4e5b-84b4-ca3fc827087c|{\"uid\":\"47194d6b-dcb3-4e5b-84b4-ca3fc827087c\",\"gender_age\":\"M:25-34\"}|\n",
      "|47c46f98-74a8-4861-92a3-e892d3dbf553|{\"uid\":\"47c46f98-74a8-4861-92a3-e892d3dbf553\",\"gender_age\":\"M:25-34\"}|\n",
      "|bda10b64-a269-4c8f-a8fa-e2a7bb6189d5|{\"uid\":\"bda10b64-a269-4c8f-a8fa-e2a7bb6189d5\",\"gender_age\":\"F:25-34\"}|\n",
      "|bdb8eb14-9a14-4e0a-8658-cf50a47125e7|{\"uid\":\"bdb8eb14-9a14-4e0a-8658-cf50a47125e7\",\"gender_age\":\"F:45-54\"}|\n",
      "|bdbb4a6a-05a3-4d4a-9ae4-c507477d63fa|{\"uid\":\"bdbb4a6a-05a3-4d4a-9ae4-c507477d63fa\",\"gender_age\":\"M:25-34\"}|\n",
      "|4798da79-e37d-4cc1-983e-da433f3cca77|{\"uid\":\"4798da79-e37d-4cc1-983e-da433f3cca77\",\"gender_age\":\"M:35-44\"}|\n",
      "|bd9095f8-2413-4880-8582-0aa1d44ede3c|{\"uid\":\"bd9095f8-2413-4880-8582-0aa1d44ede3c\",\"gender_age\":\"M:35-44\"}|\n",
      "|47d71141-1ab8-4814-b1bc-bd49b585b3c8|{\"uid\":\"47d71141-1ab8-4814-b1bc-bd49b585b3c8\",\"gender_age\":\"F:35-44\"}|\n",
      "|bda8bf33-11bd-43e8-8949-08cbe1e007f0|{\"uid\":\"bda8bf33-11bd-43e8-8949-08cbe1e007f0\",\"gender_age\":\"F:45-54\"}|\n",
      "|1d5b519d-9947-4f62-a99d-051b291c2dd9|{\"uid\":\"1d5b519d-9947-4f62-a99d-051b291c2dd9\",\"gender_age\":\"M:25-34\"}|\n",
      "|1d8cd0ee-7828-46f3-bb19-de94dcae68b8|{\"uid\":\"1d8cd0ee-7828-46f3-bb19-de94dcae68b8\",\"gender_age\":\"F:25-34\"}|\n",
      "|73086044-e1d4-4cc2-a6a1-55ce3f901635|{\"uid\":\"73086044-e1d4-4cc2-a6a1-55ce3f901635\",\"gender_age\":\"F:35-44\"}|\n",
      "|bdf4bf31-6370-45ce-87dd-f9dca2239c2e|{\"uid\":\"bdf4bf31-6370-45ce-87dd-f9dca2239c2e\",\"gender_age\":\"M:25-34\"}|\n",
      "+------------------------------------+---------------------------------------------------------------------+\n",
      "only showing top 20 rows\n",
      "\n"
     ]
    }
   ],
   "source": [
    "// dfPredict\n",
    "//     .selectExpr(\"CAST(uid AS STRING) AS key\", \"to_json(struct(*)) AS value\")\n",
    "//     .writeStream\n",
    "//     .outputMode(\"update\")\n",
    "//     .format(\"console\")\n",
    "//     .trigger(Trigger.ProcessingTime(\"5 seconds\"))\n",
    "//     //.option(\"checkpointLocation\", s\"/tmp/$USER/chk\")\n",
    "//     .option(\"truncate\", \"false\")\n",
    "//     //.option(\"numRows\", \"20\")\n",
    "//     .start"
   ]
  },
  {
   "cell_type": "code",
   "execution_count": 102,
   "metadata": {},
   "outputs": [
    {
     "data": {
      "text/plain": [
       "query = org.apache.spark.sql.execution.streaming.StreamingQueryWrapper@dfe6620\n"
      ]
     },
     "metadata": {},
     "output_type": "display_data"
    },
    {
     "data": {
      "text/plain": [
       "org.apache.spark.sql.execution.streaming.StreamingQueryWrapper@dfe6620"
      ]
     },
     "execution_count": 102,
     "metadata": {},
     "output_type": "execute_result"
    }
   ],
   "source": [
    "val query = dfPredict\n",
    "    .selectExpr(\"CAST(uid AS STRING) AS key\", \"to_json(struct(*)) AS value\")\n",
    "    .writeStream\n",
    "    .trigger(Trigger.ProcessingTime(\"5 seconds\"))\n",
    "    .format(\"kafka\")\n",
    "    .option(\"checkpointLocation\", \"lab07-vvc\")\n",
    "    .option(\"kafka.bootstrap.servers\", \"10.0.0.5:6667\")\n",
    "    .option(\"topic\", \"lab07_out\")\n",
    "    .option(\"maxOffsetsPerTrigger\", 200)\n",
    "    .outputMode(\"update\")\n",
    "    .start"
   ]
  },
  {
   "cell_type": "code",
   "execution_count": null,
   "metadata": {},
   "outputs": [],
   "source": [
    "query.awaitTermination"
   ]
  },
  {
   "cell_type": "code",
   "execution_count": null,
   "metadata": {},
   "outputs": [],
   "source": [
    "killAll"
   ]
  },
  {
   "cell_type": "code",
   "execution_count": null,
   "metadata": {},
   "outputs": [],
   "source": []
  },
  {
   "cell_type": "code",
   "execution_count": null,
   "metadata": {},
   "outputs": [],
   "source": []
  }
 ],
 "metadata": {
  "kernelspec": {
   "display_name": "Apache Toree - Scala",
   "language": "scala",
   "name": "apache_toree_scala"
  },
  "language_info": {
   "codemirror_mode": "text/x-scala",
   "file_extension": ".scala",
   "mimetype": "text/x-scala",
   "name": "scala",
   "pygments_lexer": "scala",
   "version": "2.11.12"
  }
 },
 "nbformat": 4,
 "nbformat_minor": 2
}
