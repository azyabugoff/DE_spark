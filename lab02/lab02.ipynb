{
 "cells": [
  {
   "cell_type": "code",
   "execution_count": 1,
   "metadata": {},
   "outputs": [],
   "source": [
    "import org.apache.spark.SparkContext\n",
    "import org.apache.spark.SparkConf\n",
    "import org.apache.spark.sql.SQLContext\n",
    "import org.apache.spark.sql.functions._"
   ]
  },
  {
   "cell_type": "code",
   "execution_count": 2,
   "metadata": {},
   "outputs": [
    {
     "name": "stdout",
     "output_type": "stream",
     "text": [
      "Context created in 12.626 secs\n"
     ]
    },
    {
     "data": {
      "text/plain": [
       "conf = org.apache.spark.SparkConf@cb9e0d2\n",
       "start = 1632520241346\n",
       "sc = org.apache.spark.SparkContext@28eafd14\n"
      ]
     },
     "metadata": {},
     "output_type": "display_data"
    },
    {
     "data": {
      "text/plain": [
       "org.apache.spark.SparkContext@28eafd14"
      ]
     },
     "execution_count": 2,
     "metadata": {},
     "output_type": "execute_result"
    }
   ],
   "source": [
    "val conf = new SparkConf().setAppName(\"lab02_copy\").setMaster(\"yarn\")\n",
    "val start = System.currentTimeMillis()\n",
    "val sc = new SparkContext(conf)\n",
    "println(s\"Context created in ${(System.currentTimeMillis() - start) / 1e3} secs\")"
   ]
  },
  {
   "cell_type": "code",
   "execution_count": 3,
   "metadata": {},
   "outputs": [
    {
     "data": {
      "text/plain": [
       "sqlContext = org.apache.spark.sql.SQLContext@33bd598c\n"
      ]
     },
     "metadata": {},
     "output_type": "display_data"
    },
    {
     "data": {
      "text/plain": [
       "warning: there was one deprecation warning; re-run with -deprecation for details\n"
      ]
     },
     "metadata": {},
     "output_type": "display_data"
    },
    {
     "data": {
      "text/plain": [
       "org.apache.spark.sql.SQLContext@33bd598c"
      ]
     },
     "execution_count": 3,
     "metadata": {},
     "output_type": "execute_result"
    }
   ],
   "source": [
    "val sqlContext = new SQLContext(sc);"
   ]
  },
  {
   "cell_type": "code",
   "execution_count": 4,
   "metadata": {},
   "outputs": [
    {
     "data": {
      "text/plain": [
       "users = List(100341861572, 100473724387, 100528753939, 101182896723, 101818209438, 101886368239, 102535398052, 103624582558, 103753741251, 104091409587, 104619031972, 104636088851, 104684233907, 104979586580, 105019547390, 105036954964, 105393450179, 105489980463, 10565067157, 105794662484, 106211111663, 106240201246, 107321870895, 107404936340, 107468636398, 107691294975, 107708325982, 10775836053, 107782097795, 107937872660, 108037887630, 108064895903, 10823573029, 10855721781, 108844671060, 10895608725, 10915265653, 109685047727, 110125660324, 110378823806, 111090583023, 111267576526, 111422370446, 111499688691, 112012631455, 112922985363, 112961302852, 113539278415, 113854647588, 113860126398, 114013491252, 114062617630, 114372912483, 114379300916, 114380549796, 114462170...\n"
      ]
     },
     "metadata": {},
     "output_type": "display_data"
    },
    {
     "data": {
      "text/plain": [
       "List(100341861572, 100473724387, 100528753939, 101182896723, 101818209438, 101886368239, 102535398052, 103624582558, 103753741251, 104091409587, 104619031972, 104636088851, 104684233907, 104979586580, 105019547390, 105036954964, 105393450179, 105489980463, 10565067157, 105794662484, 106211111663, 106240201246, 107321870895, 107404936340, 107468636398, 107691294975, 107708325982, 10775836053, 107782097795, 107937872660, 108037887630, 108064895903, 10823573029, 10855721781, 108844671060, 10895608725, 10915265653, 109685047727, 110125660324, 110378823806, 111090583023, 111267576526, 111422370446, 111499688691, 112012631455, 112922985363, 112961302852, 113539278415, 113854647588, 113860126398, 114013491252, 114062617630, 114372912483, 114379300916, 114380549796, 114462170..."
      ]
     },
     "execution_count": 4,
     "metadata": {},
     "output_type": "execute_result"
    }
   ],
   "source": [
    "val users = sqlContext.read.json(\"/labs/laba02/autousers.json\")\n",
    "                            .select(explode('autousers))\n",
    "                            .rdd.map(r => r(0))\n",
    "                            .collect.toList"
   ]
  },
  {
   "cell_type": "code",
   "execution_count": 5,
   "metadata": {},
   "outputs": [
    {
     "data": {
      "text/plain": [
       "logs = [_c0: string, _c1: string ... 1 more field]\n"
      ]
     },
     "metadata": {},
     "output_type": "display_data"
    },
    {
     "data": {
      "text/plain": [
       "[_c0: string, _c1: string ... 1 more field]"
      ]
     },
     "execution_count": 5,
     "metadata": {},
     "output_type": "execute_result"
    }
   ],
   "source": [
    "val logs = sqlContext\n",
    "                .read\n",
    "                .format(\"csv\")\n",
    "                .option(\"delimiter\", \"\\t\")\n",
    "                .load(\"/labs/laba02/logs/*\")"
   ]
  },
  {
   "cell_type": "code",
   "execution_count": 6,
   "metadata": {},
   "outputs": [],
   "source": [
    "import org.apache.spark.sql.{Dataset, Column}"
   ]
  },
  {
   "cell_type": "code",
   "execution_count": 7,
   "metadata": {},
   "outputs": [],
   "source": [
    "import org.apache.spark.sql.functions.udf\n",
    "import scala.util.Try\n",
    "import java.net.URL\n",
    "import java.net.URLDecoder.decode"
   ]
  },
  {
   "cell_type": "code",
   "execution_count": 8,
   "metadata": {},
   "outputs": [
    {
     "data": {
      "text/plain": [
       "decode_url = UserDefinedFunction(<function1>,StringType,Some(List(StringType)))\n"
      ]
     },
     "metadata": {},
     "output_type": "display_data"
    },
    {
     "data": {
      "text/plain": [
       "UserDefinedFunction(<function1>,StringType,Some(List(StringType)))"
      ]
     },
     "execution_count": 8,
     "metadata": {},
     "output_type": "execute_result"
    }
   ],
   "source": [
    "val decode_url = udf { (url: String) => Try(new URL(decode(url, \"UTF-8\")).getHost).toOption}"
   ]
  },
  {
   "cell_type": "code",
   "execution_count": 9,
   "metadata": {},
   "outputs": [
    {
     "data": {
      "text/plain": [
       "df = [UID: string, Timestamp: string ... 1 more field]\n"
      ]
     },
     "metadata": {},
     "output_type": "display_data"
    },
    {
     "data": {
      "text/plain": [
       "[UID: string, Timestamp: string ... 1 more field]"
      ]
     },
     "execution_count": 9,
     "metadata": {},
     "output_type": "execute_result"
    }
   ],
   "source": [
    "val df = logs\n",
    "            .select(col(\"_c0\").alias(\"UID\"), col(\"_c1\").alias(\"Timestamp\"), col(\"_c2\").alias(\"URL\"))\n",
    "            .na.drop(List(\"UID\", \"URL\"))\n",
    "            .filter('URL.contains(\"http\"))\n",
    "            .withColumn(\"URL\", decode_url(col(\"URL\")))\n",
    "//             .filter('UID != \"--\" &&\n",
    "//                     'UID != \"-\" &&\n",
    "//                     'URL != \"--\" &&\n",
    "//                     'URL != \"-\")"
   ]
  },
  {
   "cell_type": "code",
   "execution_count": 10,
   "metadata": {},
   "outputs": [
    {
     "data": {
      "text/plain": [
       "filtered_df = [UID: string, Timestamp: string ... 1 more field]\n"
      ]
     },
     "metadata": {},
     "output_type": "display_data"
    },
    {
     "data": {
      "text/plain": [
       "[UID: string, Timestamp: string ... 1 more field]"
      ]
     },
     "execution_count": 10,
     "metadata": {},
     "output_type": "execute_result"
    }
   ],
   "source": [
    "val filtered_df = df.withColumn(\"url\", regexp_replace('URL, \"^www.\", \"\")).dropDuplicates"
   ]
  },
  {
   "cell_type": "code",
   "execution_count": 11,
   "metadata": {},
   "outputs": [
    {
     "data": {
      "text/plain": [
       "newCol = CASE WHEN (UID IN (100341861572, 100473724387, 100528753939, 101182896723, 101818209438, 101886368239, 102535398052, 103624582558, 103753741251, 104091409587, 104619031972, 104636088851, 104684233907, 104979586580, 105019547390, 105036954964, 105393450179, 105489980463, 10565067157, 105794662484, 106211111663, 106240201246, 107321870895, 107404936340, 107468636398, 107691294975, 107708325982, 10775836053, 107782097795, 107937872660, 108037887630, 108064895903, 10823573029, 10855721781, 108844671060, 10895608725, 10915265653, 109685047727, 110125660324, 110378823806, 111090583023, 111267576526, 111422370446, 111499688691, 112012631455, 112922985363, 112961302852, 113539278415, 113854647588, 113860126398, 114013491252, 114062617630, 114372912483, 1143...\n"
      ]
     },
     "metadata": {},
     "output_type": "display_data"
    },
    {
     "data": {
      "text/plain": [
       "CASE WHEN (UID IN (100341861572, 100473724387, 100528753939, 101182896723, 101818209438, 101886368239, 102535398052, 103624582558, 103753741251, 104091409587, 104619031972, 104636088851, 104684233907, 104979586580, 105019547390, 105036954964, 105393450179, 105489980463, 10565067157, 105794662484, 106211111663, 106240201246, 107321870895, 107404936340, 107468636398, 107691294975, 107708325982, 10775836053, 107782097795, 107937872660, 108037887630, 108064895903, 10823573029, 10855721781, 108844671060, 10895608725, 10915265653, 109685047727, 110125660324, 110378823806, 111090583023, 111267576526, 111422370446, 111499688691, 112012631455, 112922985363, 112961302852, 113539278415, 113854647588, 113860126398, 114013491252, 114062617630, 114372912483, 1143..."
      ]
     },
     "execution_count": 11,
     "metadata": {},
     "output_type": "execute_result"
    }
   ],
   "source": [
    "val newCol = when(filtered_df(\"UID\").isin(users:_*), 1).otherwise(0)\n",
    "\n",
    "val stat = filtered_df.withColumn(\"Auto-flag\", newCol).drop(\"UID\", \"Timestamp\")"
   ]
  },
  {
   "cell_type": "code",
   "execution_count": 12,
   "metadata": {},
   "outputs": [
    {
     "data": {
      "text/plain": [
       "domains = [url_domains: string, domain: bigint]\n"
      ]
     },
     "metadata": {},
     "output_type": "display_data"
    },
    {
     "data": {
      "text/plain": [
       "[url_domains: string, domain: bigint]"
      ]
     },
     "execution_count": 12,
     "metadata": {},
     "output_type": "execute_result"
    }
   ],
   "source": [
    "val domains = stat\n",
    "                .groupBy(\"url\")\n",
    "                .count\n",
    "                .withColumnRenamed(\"count\", \"domain\")\n",
    "                .withColumnRenamed(\"url\", \"url_domains\")"
   ]
  },
  {
   "cell_type": "code",
   "execution_count": 13,
   "metadata": {},
   "outputs": [
    {
     "data": {
      "text/plain": [
       "domains_n_drivers = [url: string, domain_x_driver: bigint]\n"
      ]
     },
     "metadata": {},
     "output_type": "display_data"
    },
    {
     "data": {
      "text/plain": [
       "[url: string, domain_x_driver: bigint]"
      ]
     },
     "execution_count": 13,
     "metadata": {},
     "output_type": "execute_result"
    }
   ],
   "source": [
    "val domains_n_drivers = stat\n",
    "                .groupBy(\"url\")\n",
    "                .sum(\"Auto-flag\")\n",
    "                .withColumnRenamed(\"sum(Auto-flag)\", \"domain_x_driver\")"
   ]
  },
  {
   "cell_type": "code",
   "execution_count": 14,
   "metadata": {},
   "outputs": [
    {
     "data": {
      "text/plain": [
       "drivers_size = 313515\n"
      ]
     },
     "metadata": {},
     "output_type": "display_data"
    },
    {
     "data": {
      "text/plain": [
       "313515"
      ]
     },
     "execution_count": 14,
     "metadata": {},
     "output_type": "execute_result"
    }
   ],
   "source": [
    "val drivers_size = stat\n",
    "                    .filter(col(\"Auto-flag\") === 1)\n",
    "                    .count"
   ]
  },
  {
   "cell_type": "code",
   "execution_count": 36,
   "metadata": {},
   "outputs": [],
   "source": [
    "import org.apache.spark.sql.types.{DecimalType, StringType}"
   ]
  },
  {
   "cell_type": "code",
   "execution_count": 37,
   "metadata": {},
   "outputs": [
    {
     "data": {
      "text/plain": [
       "res = [url: string, relevance: string]\n"
      ]
     },
     "metadata": {},
     "output_type": "display_data"
    },
    {
     "data": {
      "text/plain": [
       "[url: string, relevance: string]"
      ]
     },
     "execution_count": 37,
     "metadata": {},
     "output_type": "execute_result"
    }
   ],
   "source": [
    "val res = domains_n_drivers\n",
    "                .join(\n",
    "                    domains,\n",
    "                    domains(\"url_domains\") === domains_n_drivers(\"url\"),\n",
    "                    \"inner\"\n",
    "                    )\n",
    "                .withColumn(\"domain_x_driver\",\n",
    "                            round(pow('domain_x_driver, 2)\n",
    "                            / ('domain * drivers_size), 20))\n",
    "                                .drop(\"domain\", \"url_domains\")\n",
    "                .withColumnRenamed(\"domain_x_driver\", \"relevance\")\n",
    "                .orderBy('relevance.desc, 'url.asc)\n",
    "                .withColumn(\"relevance\", 'relevance\n",
    "                                                    .cast(DecimalType(21, 20))\n",
    "                                                    .cast(StringType))"
   ]
  },
  {
   "cell_type": "code",
   "execution_count": 38,
   "metadata": {},
   "outputs": [
    {
     "data": {
      "text/plain": [
       "0"
      ]
     },
     "execution_count": 38,
     "metadata": {},
     "output_type": "execute_result"
    }
   ],
   "source": [
    "res.filter('relevance.isNull).count"
   ]
  },
  {
   "cell_type": "code",
   "execution_count": 40,
   "metadata": {},
   "outputs": [
    {
     "data": {
      "text/plain": [
       "lastException: Throwable = null\n"
      ]
     },
     "metadata": {},
     "output_type": "display_data"
    }
   ],
   "source": [
    "res.limit(200).coalesce(1)\n",
    "      .write\n",
    "      .option(\"header\", \"false\")\n",
    "      .option(\"sep\", \"\\t\")\n",
    "      .mode(\"overwrite\")\n",
    "      .csv(\"laba02_domains.txt\")"
   ]
  },
  {
   "cell_type": "code",
   "execution_count": 41,
   "metadata": {},
   "outputs": [],
   "source": [
    "// sc.stop"
   ]
  }
 ],
 "metadata": {
  "kernelspec": {
   "display_name": "Apache Toree - Scala",
   "language": "scala",
   "name": "apache_toree_scala"
  },
  "language_info": {
   "codemirror_mode": "text/x-scala",
   "file_extension": ".scala",
   "mimetype": "text/x-scala",
   "name": "scala",
   "pygments_lexer": "scala",
   "version": "2.11.12"
  }
 },
 "nbformat": 4,
 "nbformat_minor": 2
}
